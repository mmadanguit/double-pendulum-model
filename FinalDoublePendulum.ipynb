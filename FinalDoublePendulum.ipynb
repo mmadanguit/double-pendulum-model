{
 "cells": [
  {
   "cell_type": "markdown",
   "metadata": {
    "collapsed": false
   },
   "source": [
    "# Modeling a Double Pendulum\n",
    "By Marion Madanguit and Nicola van Moon"
   ]
  },
  {
   "cell_type": "code",
   "execution_count": 1,
   "metadata": {
    "collapsed": false
   },
   "outputs": [
   ],
   "source": [
    "# Configure Jupyter so figures appear in the notebook\n",
    "%matplotlib inline\n",
    "\n",
    "# Configure Jupyter to display the assigned value after an assignment\n",
    "%config InteractiveShell.ast_node_interactivity='last_expr_or_assign'\n",
    "\n",
    "# import functions from the modsim.py module\n",
    "from modsim import *\n",
    "\n",
    "import math"
   ]
  },
  {
   "cell_type": "markdown",
   "metadata": {
    "collapsed": false
   },
   "source": [
    "## Question\n",
    "The double pendulum is known to be one of the most chaotic mechanical systems in existence. Its motion is characterized by rich dynamic swinging in all degrees and directions. Although seemingly erratic, the motion of the double pendulum can be predicted with an understanding of the physical laws governing it.\n",
    "\n",
    "Our primary goal is to create a model of the double pendulum. With our model, we hope to be able to predict the motion of the double pendulum given any initial position. In other words, we are aiming to answer the following question: Given the initial positions of the two masses on a double pendulum, what motion does the system undergo? Having a model of this system will not only offer us an interesting visual experience but it will allow us to graphically plot the impact of slight changes in initial position and perhaps give us a greater understanding of the chaos of the double pendulum."
   ]
  },
  {
   "cell_type": "markdown",
   "metadata": {
    "collapsed": false
   },
   "source": [
    "## Model\n",
    "To answer this question, we first defined our system. Our system would consist of two masses connected by rods in a double pendulum setup as shown in the diagram below. We assumed the rods were massless and the masses were point masses for simplification purposes. This assumption is relatively accurate if the rods are made of a lightweight material and the masses are made of a dense material.\n",
    "\n",
    "We then created force diagrams for the two masses. Each mass is acted on by a force of gravity and the forces of tension from the rod(s) touching it. We assumed that friction and air resistance were negligible to the system. A well-made double pendulum usually has low friction about its pivots so ignoring friction is a somewhat reasonable assumption for this system. Air resistance also has a small effect at such low velocities. It is important to note, however, that in a real-world scenario, air resistance and friction would ultimately cause the double pendulum to slow to a stop.\n",
    "\n",
    "![Schematic](Images/Diagrams.png)\n",
    "![Question](Text1.PNG)\n",
    "![Question](2Text.PNG)\n",
    "![Question](3Text.PNG)"
   ]
  },
  {
   "cell_type": "code",
   "execution_count": 2,
   "metadata": {
    "collapsed": false
   },
   "outputs": [
    {
     "data": {
      "text/plain": [
       "1"
      ]
     },
     "execution_count": 2,
     "metadata": {
     },
     "output_type": "execute_result"
    }
   ],
   "source": [
    "m = 1\n",
    "s = 1\n",
    "minute = 1\n",
    "day = 1\n",
    "kg = 1"
   ]
  },
  {
   "cell_type": "code",
   "execution_count": 3,
   "metadata": {
    "collapsed": false
   },
   "outputs": [
    {
     "data": {
      "text/html": [
       "<div>\n",
       "<style scoped>\n",
       "    .dataframe tbody tr th:only-of-type {\n",
       "        vertical-align: middle;\n",
       "    }\n",
       "\n",
       "    .dataframe tbody tr th {\n",
       "        vertical-align: top;\n",
       "    }\n",
       "\n",
       "    .dataframe thead th {\n",
       "        text-align: right;\n",
       "    }\n",
       "</style>\n",
       "<table border=\"1\" class=\"dataframe\">\n",
       "  <thead>\n",
       "    <tr style=\"text-align: right;\">\n",
       "      <th></th>\n",
       "      <th>values</th>\n",
       "    </tr>\n",
       "  </thead>\n",
       "  <tbody>\n",
       "    <tr>\n",
       "      <td>L1</td>\n",
       "      <td>1.000000</td>\n",
       "    </tr>\n",
       "    <tr>\n",
       "      <td>L2</td>\n",
       "      <td>1.000000</td>\n",
       "    </tr>\n",
       "    <tr>\n",
       "      <td>M1</td>\n",
       "      <td>1.000000</td>\n",
       "    </tr>\n",
       "    <tr>\n",
       "      <td>M2</td>\n",
       "      <td>1.000000</td>\n",
       "    </tr>\n",
       "    <tr>\n",
       "      <td>theta1_init</td>\n",
       "      <td>1.396263</td>\n",
       "    </tr>\n",
       "    <tr>\n",
       "      <td>theta2_init</td>\n",
       "      <td>-1.396263</td>\n",
       "    </tr>\n",
       "    <tr>\n",
       "      <td>omega1_init</td>\n",
       "      <td>0.000000</td>\n",
       "    </tr>\n",
       "    <tr>\n",
       "      <td>omega2_init</td>\n",
       "      <td>0.000000</td>\n",
       "    </tr>\n",
       "    <tr>\n",
       "      <td>g</td>\n",
       "      <td>9.800000</td>\n",
       "    </tr>\n",
       "    <tr>\n",
       "      <td>t_0</td>\n",
       "      <td>0.000000</td>\n",
       "    </tr>\n",
       "    <tr>\n",
       "      <td>t_end</td>\n",
       "      <td>5.000000</td>\n",
       "    </tr>\n",
       "    <tr>\n",
       "      <td>dt</td>\n",
       "      <td>0.010000</td>\n",
       "    </tr>\n",
       "  </tbody>\n",
       "</table>\n",
       "</div>"
      ],
      "text/plain": [
       "L1             1.000000\n",
       "L2             1.000000\n",
       "M1             1.000000\n",
       "M2             1.000000\n",
       "theta1_init    1.396263\n",
       "theta2_init   -1.396263\n",
       "omega1_init    0.000000\n",
       "omega2_init    0.000000\n",
       "g              9.800000\n",
       "t_0            0.000000\n",
       "t_end          5.000000\n",
       "dt             0.010000\n",
       "dtype: float64"
      ]
     },
     "execution_count": 3,
     "metadata": {
     },
     "output_type": "execute_result"
    }
   ],
   "source": [
    "t_0 = 0 * s\n",
    "t_end = 5 * s\n",
    "dt = 0.01 * s\n",
    "\n",
    "params = Params(L1 = 1 * m,\n",
    "                L2 = 1 * m,\n",
    "                M1 = 1 * kg,\n",
    "                M2 = 1 * kg,\n",
    "                theta1_init = 80 * pi / 180, # in rad\n",
    "                theta2_init = -80 * pi / 180, # in rad\n",
    "                omega1_init = 0 / s, # in rad / s\n",
    "                omega2_init = 0 / s, # in rad / s\n",
    "                g = 9.8 * m / s**2,\n",
    "                t_0=t_0, t_end=t_end, dt=dt)"
   ]
  },
  {
   "cell_type": "code",
   "execution_count": 4,
   "metadata": {
    "collapsed": false
   },
   "outputs": [
    {
     "data": {
      "text/html": [
       "<div>\n",
       "<style scoped>\n",
       "    .dataframe tbody tr th:only-of-type {\n",
       "        vertical-align: middle;\n",
       "    }\n",
       "\n",
       "    .dataframe tbody tr th {\n",
       "        vertical-align: top;\n",
       "    }\n",
       "\n",
       "    .dataframe thead th {\n",
       "        text-align: right;\n",
       "    }\n",
       "</style>\n",
       "<table border=\"1\" class=\"dataframe\">\n",
       "  <thead>\n",
       "    <tr style=\"text-align: right;\">\n",
       "      <th></th>\n",
       "      <th>values</th>\n",
       "    </tr>\n",
       "  </thead>\n",
       "  <tbody>\n",
       "    <tr>\n",
       "      <td>L1</td>\n",
       "      <td>1</td>\n",
       "    </tr>\n",
       "    <tr>\n",
       "      <td>L2</td>\n",
       "      <td>1</td>\n",
       "    </tr>\n",
       "    <tr>\n",
       "      <td>M1</td>\n",
       "      <td>1</td>\n",
       "    </tr>\n",
       "    <tr>\n",
       "      <td>M2</td>\n",
       "      <td>1</td>\n",
       "    </tr>\n",
       "    <tr>\n",
       "      <td>theta1_init</td>\n",
       "      <td>1.39626</td>\n",
       "    </tr>\n",
       "    <tr>\n",
       "      <td>theta2_init</td>\n",
       "      <td>-1.39626</td>\n",
       "    </tr>\n",
       "    <tr>\n",
       "      <td>omega1_init</td>\n",
       "      <td>0</td>\n",
       "    </tr>\n",
       "    <tr>\n",
       "      <td>omega2_init</td>\n",
       "      <td>0</td>\n",
       "    </tr>\n",
       "    <tr>\n",
       "      <td>g</td>\n",
       "      <td>9.8</td>\n",
       "    </tr>\n",
       "    <tr>\n",
       "      <td>t_0</td>\n",
       "      <td>0</td>\n",
       "    </tr>\n",
       "    <tr>\n",
       "      <td>t_end</td>\n",
       "      <td>5</td>\n",
       "    </tr>\n",
       "    <tr>\n",
       "      <td>dt</td>\n",
       "      <td>0.01</td>\n",
       "    </tr>\n",
       "    <tr>\n",
       "      <td>init</td>\n",
       "      <td>theta1    1.396263\n",
       "theta2   -1.396263\n",
       "omega1  ...</td>\n",
       "    </tr>\n",
       "  </tbody>\n",
       "</table>\n",
       "</div>"
      ],
      "text/plain": [
       "L1                                                             1\n",
       "L2                                                             1\n",
       "M1                                                             1\n",
       "M2                                                             1\n",
       "theta1_init                                              1.39626\n",
       "theta2_init                                             -1.39626\n",
       "omega1_init                                                    0\n",
       "omega2_init                                                    0\n",
       "g                                                            9.8\n",
       "t_0                                                            0\n",
       "t_end                                                          5\n",
       "dt                                                          0.01\n",
       "init           theta1    1.396263\n",
       "theta2   -1.396263\n",
       "omega1  ...\n",
       "dtype: object"
      ]
     },
     "execution_count": 4,
     "metadata": {
     },
     "output_type": "execute_result"
    }
   ],
   "source": [
    "def make_system(params):\n",
    "\n",
    "    # angular positions\n",
    "    theta1 = params.theta1_init\n",
    "    theta2 = params.theta2_init\n",
    "\n",
    "    # angular velocities\n",
    "    omega1 = params.omega1_init\n",
    "    omega2 = params.omega2_init\n",
    "\n",
    "    init = State(theta1 = theta1, theta2 = theta2, omega1 = omega1, omega2 = omega2)\n",
    "\n",
    "    return System(params, init=init)\n",
    "\n",
    "system = make_system(params)"
   ]
  },
  {
   "cell_type": "code",
   "execution_count": 5,
   "metadata": {
    "collapsed": false
   },
   "outputs": [
   ],
   "source": [
    "def slope_func(state, t, system):\n",
    "\n",
    "    theta1, theta2, omega1, omega2 = state\n",
    "    M1, M2, g = system.M1, system.M2, system.g\n",
    "    L1, L2 = system.L1, system.L2\n",
    "\n",
    "    dtheta1dt = omega1\n",
    "    dtheta2dt = omega2\n",
    "\n",
    "    #equations for the angular acceleration of each mass\n",
    "    domega1dt = (-g * (2*M1 + M2) * math.sin(theta1) - M2 * g * math.sin(theta1 - 2*theta2) - 2 * math.sin(theta1 - theta2) * M2 *(L2*omega2**2 + L1*math.cos(theta1 - theta2)*omega1**2)) / (L1 * (2*M1 + M2 - M2*math.cos(2*theta1-2*theta2)))\n",
    "    domega2dt = (2 * math.sin(theta1-theta2) * ((M1+M2)*L1*omega1**2 + g*(M1+M2)*math.cos(theta1) + L2*M2*math.cos(theta1-theta2)*omega2**2)) / (L2 * (2*M1 + M2 - M2*math.cos(2*theta1-2*theta2)))\n",
    "\n",
    "    return dtheta1dt, dtheta2dt, domega1dt, domega2dt"
   ]
  },
  {
   "cell_type": "code",
   "execution_count": 6,
   "metadata": {
    "collapsed": false
   },
   "outputs": [
   ],
   "source": [
    "def event_func(state, t, system):\n",
    "\n",
    "    return system.t_end - t #equals 0 at time t so the simulation ends"
   ]
  },
  {
   "cell_type": "code",
   "execution_count": 7,
   "metadata": {
    "collapsed": false
   },
   "outputs": [
    {
     "data": {
      "text/html": [
       "<div>\n",
       "<style scoped>\n",
       "    .dataframe tbody tr th:only-of-type {\n",
       "        vertical-align: middle;\n",
       "    }\n",
       "\n",
       "    .dataframe tbody tr th {\n",
       "        vertical-align: top;\n",
       "    }\n",
       "\n",
       "    .dataframe thead th {\n",
       "        text-align: right;\n",
       "    }\n",
       "</style>\n",
       "<table border=\"1\" class=\"dataframe\">\n",
       "  <thead>\n",
       "    <tr style=\"text-align: right;\">\n",
       "      <th></th>\n",
       "      <th>values</th>\n",
       "    </tr>\n",
       "  </thead>\n",
       "  <tbody>\n",
       "    <tr>\n",
       "      <td>success</td>\n",
       "      <td>True</td>\n",
       "    </tr>\n",
       "    <tr>\n",
       "      <td>message</td>\n",
       "      <td>The solver successfully reached the end of the...</td>\n",
       "    </tr>\n",
       "  </tbody>\n",
       "</table>\n",
       "</div>"
      ],
      "text/plain": [
       "success                                                 True\n",
       "message    The solver successfully reached the end of the...\n",
       "dtype: object"
      ]
     },
     "execution_count": 7,
     "metadata": {
     },
     "output_type": "execute_result"
    }
   ],
   "source": [
    "results, details = run_ode_solver(system, slope_func, events=event_func)\n",
    "details"
   ]
  },
  {
   "cell_type": "code",
   "execution_count": 8,
   "metadata": {
    "collapsed": false
   },
   "outputs": [
    {
     "data": {
      "text/html": [
       "<div>\n",
       "<style scoped>\n",
       "    .dataframe tbody tr th:only-of-type {\n",
       "        vertical-align: middle;\n",
       "    }\n",
       "\n",
       "    .dataframe tbody tr th {\n",
       "        vertical-align: top;\n",
       "    }\n",
       "\n",
       "    .dataframe thead th {\n",
       "        text-align: right;\n",
       "    }\n",
       "</style>\n",
       "<table border=\"1\" class=\"dataframe\">\n",
       "  <thead>\n",
       "    <tr style=\"text-align: right;\">\n",
       "      <th></th>\n",
       "      <th>theta1</th>\n",
       "      <th>theta2</th>\n",
       "      <th>omega1</th>\n",
       "      <th>omega2</th>\n",
       "    </tr>\n",
       "  </thead>\n",
       "  <tbody>\n",
       "    <tr>\n",
       "      <td>0.00</td>\n",
       "      <td>1.396263</td>\n",
       "      <td>-1.396263</td>\n",
       "      <td>0.000000</td>\n",
       "      <td>0.000000</td>\n",
       "    </tr>\n",
       "    <tr>\n",
       "      <td>0.01</td>\n",
       "      <td>1.395805</td>\n",
       "      <td>-1.396211</td>\n",
       "      <td>-0.091607</td>\n",
       "      <td>0.010439</td>\n",
       "    </tr>\n",
       "    <tr>\n",
       "      <td>0.02</td>\n",
       "      <td>1.394431</td>\n",
       "      <td>-1.396054</td>\n",
       "      <td>-0.183116</td>\n",
       "      <td>0.021057</td>\n",
       "    </tr>\n",
       "    <tr>\n",
       "      <td>0.03</td>\n",
       "      <td>1.392143</td>\n",
       "      <td>-1.395790</td>\n",
       "      <td>-0.274428</td>\n",
       "      <td>0.032036</td>\n",
       "    </tr>\n",
       "    <tr>\n",
       "      <td>0.04</td>\n",
       "      <td>1.388943</td>\n",
       "      <td>-1.395413</td>\n",
       "      <td>-0.365444</td>\n",
       "      <td>0.043560</td>\n",
       "    </tr>\n",
       "    <tr>\n",
       "      <td>...</td>\n",
       "      <td>...</td>\n",
       "      <td>...</td>\n",
       "      <td>...</td>\n",
       "      <td>...</td>\n",
       "    </tr>\n",
       "    <tr>\n",
       "      <td>4.96</td>\n",
       "      <td>-1.321228</td>\n",
       "      <td>0.916788</td>\n",
       "      <td>-0.682353</td>\n",
       "      <td>2.847858</td>\n",
       "    </tr>\n",
       "    <tr>\n",
       "      <td>4.97</td>\n",
       "      <td>-1.327423</td>\n",
       "      <td>0.945249</td>\n",
       "      <td>-0.556586</td>\n",
       "      <td>2.845809</td>\n",
       "    </tr>\n",
       "    <tr>\n",
       "      <td>4.98</td>\n",
       "      <td>-1.332359</td>\n",
       "      <td>0.973704</td>\n",
       "      <td>-0.430670</td>\n",
       "      <td>2.846633</td>\n",
       "    </tr>\n",
       "    <tr>\n",
       "      <td>4.99</td>\n",
       "      <td>-1.336036</td>\n",
       "      <td>1.002181</td>\n",
       "      <td>-0.304672</td>\n",
       "      <td>2.849851</td>\n",
       "    </tr>\n",
       "    <tr>\n",
       "      <td>5.00</td>\n",
       "      <td>-1.338453</td>\n",
       "      <td>1.030700</td>\n",
       "      <td>-0.178693</td>\n",
       "      <td>2.854986</td>\n",
       "    </tr>\n",
       "  </tbody>\n",
       "</table>\n",
       "<p>501 rows × 4 columns</p>\n",
       "</div>"
      ],
      "text/plain": [
       "        theta1    theta2    omega1    omega2\n",
       "0.00  1.396263 -1.396263  0.000000  0.000000\n",
       "0.01  1.395805 -1.396211 -0.091607  0.010439\n",
       "0.02  1.394431 -1.396054 -0.183116  0.021057\n",
       "0.03  1.392143 -1.395790 -0.274428  0.032036\n",
       "0.04  1.388943 -1.395413 -0.365444  0.043560\n",
       "...        ...       ...       ...       ...\n",
       "4.96 -1.321228  0.916788 -0.682353  2.847858\n",
       "4.97 -1.327423  0.945249 -0.556586  2.845809\n",
       "4.98 -1.332359  0.973704 -0.430670  2.846633\n",
       "4.99 -1.336036  1.002181 -0.304672  2.849851\n",
       "5.00 -1.338453  1.030700 -0.178693  2.854986\n",
       "\n",
       "[501 rows x 4 columns]"
      ]
     },
     "execution_count": 8,
     "metadata": {
     },
     "output_type": "execute_result"
    }
   ],
   "source": [
    "results"
   ]
  },
  {
   "cell_type": "code",
   "execution_count": 9,
   "metadata": {
    "collapsed": false
   },
   "outputs": [
   ],
   "source": [
    "def pol_vector(mag, angle, offset, direction): #offset and direction allow for angles not measured counter-clockwise from the positive x-axis to be acurately turned into the correct vectors\n",
    "    x, y = pol2cart(direction*angle + offset, mag)\n",
    "    return Vector(x, y)"
   ]
  },
  {
   "cell_type": "code",
   "execution_count": 10,
   "metadata": {
    "collapsed": false
   },
   "outputs": [
   ],
   "source": [
    "def get_R1(theta): #R1 is the position of the inner mass in reference to the origin\n",
    "    return pol_vector(system.L1, theta, 3*pi/2, 1) #3pi/2 because it is measured from the negative y axis, 1 becasue it is counter-clockwise\n",
    "\n",
    "def get_R2(theta): #R2 is the position of the outer mass in reference to the inner mass\n",
    "    return pol_vector(system.L2, theta, 3*pi/2, -1) #3pi/2 because it is measured from the negative axis, -1 because it is measured clockwise\n",
    "\n",
    "def get_R3(R1, R2): #R3 is the position of the outer mass in reference to the origin\n",
    "    return R1 + R2"
   ]
  },
  {
   "cell_type": "code",
   "execution_count": 11,
   "metadata": {
    "collapsed": false
   },
   "outputs": [
    {
     "data": {
      "text/html": [
       "<div>\n",
       "<style scoped>\n",
       "    .dataframe tbody tr th:only-of-type {\n",
       "        vertical-align: middle;\n",
       "    }\n",
       "\n",
       "    .dataframe tbody tr th {\n",
       "        vertical-align: top;\n",
       "    }\n",
       "\n",
       "    .dataframe thead th {\n",
       "        text-align: right;\n",
       "    }\n",
       "</style>\n",
       "<table border=\"1\" class=\"dataframe\">\n",
       "  <thead>\n",
       "    <tr style=\"text-align: right;\">\n",
       "      <th></th>\n",
       "      <th>theta1</th>\n",
       "      <th>theta2</th>\n",
       "      <th>omega1</th>\n",
       "      <th>omega2</th>\n",
       "      <th>R1</th>\n",
       "      <th>R2</th>\n",
       "      <th>R3</th>\n",
       "    </tr>\n",
       "  </thead>\n",
       "  <tbody>\n",
       "    <tr>\n",
       "      <td>0.00</td>\n",
       "      <td>1.396263</td>\n",
       "      <td>-1.396263</td>\n",
       "      <td>0.000000</td>\n",
       "      <td>0.000000</td>\n",
       "      <td>[0.984807753012208 dimensionless, -0.173648177...</td>\n",
       "      <td>[0.984807753012208 dimensionless, -0.173648177...</td>\n",
       "      <td>[1.969615506024416 dimensionless, -0.347296355...</td>\n",
       "    </tr>\n",
       "    <tr>\n",
       "      <td>0.01</td>\n",
       "      <td>1.395805</td>\n",
       "      <td>-1.396211</td>\n",
       "      <td>-0.091607</td>\n",
       "      <td>0.010439</td>\n",
       "      <td>[0.984728106134212 dimensionless, -0.174099273...</td>\n",
       "      <td>[0.9847987032357167 dimensionless, -0.17369949...</td>\n",
       "      <td>[1.9695268093699287 dimensionless, -0.34779876...</td>\n",
       "    </tr>\n",
       "    <tr>\n",
       "      <td>0.02</td>\n",
       "      <td>1.394431</td>\n",
       "      <td>-1.396054</td>\n",
       "      <td>-0.183116</td>\n",
       "      <td>0.021057</td>\n",
       "      <td>[0.9844879826217118 dimensionless, -0.17545202...</td>\n",
       "      <td>[0.9847714302144067 dimensionless, -0.17385404...</td>\n",
       "      <td>[1.9692594128361185 dimensionless, -0.34930607...</td>\n",
       "    </tr>\n",
       "    <tr>\n",
       "      <td>0.03</td>\n",
       "      <td>1.392143</td>\n",
       "      <td>-1.395790</td>\n",
       "      <td>-0.274428</td>\n",
       "      <td>0.032036</td>\n",
       "      <td>[0.9840839276351747 dimensionless, -0.17770431...</td>\n",
       "      <td>[0.9847254154737645 dimensionless, -0.17411449...</td>\n",
       "      <td>[1.9688093431089393 dimensionless, -0.35181880...</td>\n",
       "    </tr>\n",
       "    <tr>\n",
       "      <td>0.04</td>\n",
       "      <td>1.388943</td>\n",
       "      <td>-1.395413</td>\n",
       "      <td>-0.365444</td>\n",
       "      <td>0.043560</td>\n",
       "      <td>[0.9835102102615904 dimensionless, -0.18085260...</td>\n",
       "      <td>[0.9846597863286497 dimensionless, -0.17448525...</td>\n",
       "      <td>[1.9681699965902402 dimensionless, -0.35533786...</td>\n",
       "    </tr>\n",
       "    <tr>\n",
       "      <td>...</td>\n",
       "      <td>...</td>\n",
       "      <td>...</td>\n",
       "      <td>...</td>\n",
       "      <td>...</td>\n",
       "      <td>...</td>\n",
       "      <td>...</td>\n",
       "      <td>...</td>\n",
       "    </tr>\n",
       "    <tr>\n",
       "      <td>4.96</td>\n",
       "      <td>-1.321228</td>\n",
       "      <td>0.916788</td>\n",
       "      <td>-0.682353</td>\n",
       "      <td>2.847858</td>\n",
       "      <td>[-0.9690190092831374 dimensionless, -0.2469861...</td>\n",
       "      <td>[-0.7936517813092249 dimensionless, -0.6083722...</td>\n",
       "      <td>[-1.7626707905923622 dimensionless, -0.8553584...</td>\n",
       "    </tr>\n",
       "    <tr>\n",
       "      <td>4.97</td>\n",
       "      <td>-1.327423</td>\n",
       "      <td>0.945249</td>\n",
       "      <td>-0.556586</td>\n",
       "      <td>2.845809</td>\n",
       "      <td>[-0.9705305082918401 dimensionless, -0.2409782...</td>\n",
       "      <td>[-0.8106424887852356 dimensionless, -0.5855414...</td>\n",
       "      <td>[-1.7811729970770758 dimensionless, -0.8265197...</td>\n",
       "    </tr>\n",
       "    <tr>\n",
       "      <td>4.98</td>\n",
       "      <td>-1.332359</td>\n",
       "      <td>0.973704</td>\n",
       "      <td>-0.430670</td>\n",
       "      <td>2.846633</td>\n",
       "      <td>[-0.9717082865176763 dimensionless, -0.2361842...</td>\n",
       "      <td>[-0.8269738559596683 dimensionless, -0.5622403...</td>\n",
       "      <td>[-1.7986821424773445 dimensionless, -0.7984246...</td>\n",
       "    </tr>\n",
       "    <tr>\n",
       "      <td>4.99</td>\n",
       "      <td>-1.336036</td>\n",
       "      <td>1.002181</td>\n",
       "      <td>-0.304672</td>\n",
       "      <td>2.849851</td>\n",
       "      <td>[-0.9725701234883731 dimensionless, -0.2326098...</td>\n",
       "      <td>[-0.8426471841869626 dimensionless, -0.5384660...</td>\n",
       "      <td>[-1.8152173076753357 dimensionless, -0.7710759...</td>\n",
       "    </tr>\n",
       "    <tr>\n",
       "      <td>5.00</td>\n",
       "      <td>-1.338453</td>\n",
       "      <td>1.030700</td>\n",
       "      <td>-0.178693</td>\n",
       "      <td>2.854986</td>\n",
       "      <td>[-0.9731294249642458 dimensionless, -0.2302588...</td>\n",
       "      <td>[-0.8576593226696818 dimensionless, -0.5142183...</td>\n",
       "      <td>[-1.8307887476339277 dimensionless, -0.7444771...</td>\n",
       "    </tr>\n",
       "  </tbody>\n",
       "</table>\n",
       "<p>501 rows × 7 columns</p>\n",
       "</div>"
      ],
      "text/plain": [
       "        theta1    theta2    omega1    omega2  \\\n",
       "0.00  1.396263 -1.396263  0.000000  0.000000   \n",
       "0.01  1.395805 -1.396211 -0.091607  0.010439   \n",
       "0.02  1.394431 -1.396054 -0.183116  0.021057   \n",
       "0.03  1.392143 -1.395790 -0.274428  0.032036   \n",
       "0.04  1.388943 -1.395413 -0.365444  0.043560   \n",
       "...        ...       ...       ...       ...   \n",
       "4.96 -1.321228  0.916788 -0.682353  2.847858   \n",
       "4.97 -1.327423  0.945249 -0.556586  2.845809   \n",
       "4.98 -1.332359  0.973704 -0.430670  2.846633   \n",
       "4.99 -1.336036  1.002181 -0.304672  2.849851   \n",
       "5.00 -1.338453  1.030700 -0.178693  2.854986   \n",
       "\n",
       "                                                     R1  \\\n",
       "0.00  [0.984807753012208 dimensionless, -0.173648177...   \n",
       "0.01  [0.984728106134212 dimensionless, -0.174099273...   \n",
       "0.02  [0.9844879826217118 dimensionless, -0.17545202...   \n",
       "0.03  [0.9840839276351747 dimensionless, -0.17770431...   \n",
       "0.04  [0.9835102102615904 dimensionless, -0.18085260...   \n",
       "...                                                 ...   \n",
       "4.96  [-0.9690190092831374 dimensionless, -0.2469861...   \n",
       "4.97  [-0.9705305082918401 dimensionless, -0.2409782...   \n",
       "4.98  [-0.9717082865176763 dimensionless, -0.2361842...   \n",
       "4.99  [-0.9725701234883731 dimensionless, -0.2326098...   \n",
       "5.00  [-0.9731294249642458 dimensionless, -0.2302588...   \n",
       "\n",
       "                                                     R2  \\\n",
       "0.00  [0.984807753012208 dimensionless, -0.173648177...   \n",
       "0.01  [0.9847987032357167 dimensionless, -0.17369949...   \n",
       "0.02  [0.9847714302144067 dimensionless, -0.17385404...   \n",
       "0.03  [0.9847254154737645 dimensionless, -0.17411449...   \n",
       "0.04  [0.9846597863286497 dimensionless, -0.17448525...   \n",
       "...                                                 ...   \n",
       "4.96  [-0.7936517813092249 dimensionless, -0.6083722...   \n",
       "4.97  [-0.8106424887852356 dimensionless, -0.5855414...   \n",
       "4.98  [-0.8269738559596683 dimensionless, -0.5622403...   \n",
       "4.99  [-0.8426471841869626 dimensionless, -0.5384660...   \n",
       "5.00  [-0.8576593226696818 dimensionless, -0.5142183...   \n",
       "\n",
       "                                                     R3  \n",
       "0.00  [1.969615506024416 dimensionless, -0.347296355...  \n",
       "0.01  [1.9695268093699287 dimensionless, -0.34779876...  \n",
       "0.02  [1.9692594128361185 dimensionless, -0.34930607...  \n",
       "0.03  [1.9688093431089393 dimensionless, -0.35181880...  \n",
       "0.04  [1.9681699965902402 dimensionless, -0.35533786...  \n",
       "...                                                 ...  \n",
       "4.96  [-1.7626707905923622 dimensionless, -0.8553584...  \n",
       "4.97  [-1.7811729970770758 dimensionless, -0.8265197...  \n",
       "4.98  [-1.7986821424773445 dimensionless, -0.7984246...  \n",
       "4.99  [-1.8152173076753357 dimensionless, -0.7710759...  \n",
       "5.00  [-1.8307887476339277 dimensionless, -0.7444771...  \n",
       "\n",
       "[501 rows x 7 columns]"
      ]
     },
     "execution_count": 11,
     "metadata": {
     },
     "output_type": "execute_result"
    }
   ],
   "source": [
    "def vectorize_results(results):\n",
    "    get_R1_vectorized = np.vectorize(get_R1) # numpy vectorize transforms function so that it can operate on and return numpy arrays\n",
    "    get_R2_vectorized = np.vectorize(get_R2)\n",
    "    get_R3_vectorized = np.vectorize(get_R3)\n",
    "\n",
    "    results['R1'] = get_R1_vectorized(results['theta1'])\n",
    "    results['R2'] = get_R2_vectorized(results['theta2'])\n",
    "    results['R3'] = get_R3_vectorized(results['R1'], results['R2'])\n",
    "    return results\n",
    "\n",
    "results = vectorize_results(results)"
   ]
  },
  {
   "cell_type": "code",
   "execution_count": 12,
   "metadata": {
    "collapsed": false
   },
   "outputs": [
    {
     "data": {
      "image/png": "[encoded data removed]",
      "text/plain": "<Figure size 432x288 with 1 Axes>"
     },
     "metadata": {
      "needs_background": "light"
     },
     "output_type": "execute_result"
    }
   ],
   "source": [
    "def plot_results(results, Title):\n",
    "    R1_x = results.R1.extract('x')\n",
    "    R1_y = results.R1.extract('y')\n",
    "    R3_x = results.R3.extract('x')\n",
    "    R3_y = results.R3.extract('y')\n",
    "\n",
    "    plot(R1_x, R1_y, color='C2')\n",
    "    plot(R3_x, R3_y, color='C3')\n",
    "\n",
    "    decorate(title= Title,\n",
    "             xlabel='x position (m)',\n",
    "             ylabel='y position (m)')\n",
    "\n",
    "plot_results(results, 'Double Pendulum (80 degrees)')"
   ]
  },
  {
   "cell_type": "markdown",
   "metadata": {
    "collapsed": false
   },
   "source": [
    "## Results\n",
    "To answer our initial question, we ran our stimulation for 5 different starting angles (161 to 165 degrees) and plotted the motion of the two masses over a period of 5 seconds. We chose to make only slight changes to its initial position to see if and how those small differences would impact the motion of the double pendulum. The motion of the first mass is represented by a green line and the motion of the second mass is represented by a red line."
   ]
  },
  {
   "cell_type": "code",
   "execution_count": 13,
   "metadata": {
    "collapsed": false
   },
   "outputs": [
   ],
   "source": [
    "def run_with_angle(angle):\n",
    "    params = Params(L1 = 1 * m,\n",
    "                    L2 = 1 * m,\n",
    "                    M1 = 1 * kg,\n",
    "                    M2 = 1 * kg,\n",
    "                    V1_init = 0 * m / s,\n",
    "                    V3_init = 0 * m / s,\n",
    "                    theta1_init = angle * pi / 180, # in rad\n",
    "                    theta2_init = -1*angle * pi / 180, # in rad\n",
    "                    omega1_init = 0 / s, # in rad / s\n",
    "                    omega2_init = 0 / s, # in rad / s\n",
    "                    g = 9.8 * m / s**2,\n",
    "                    t_0=t_0, t_end=t_end, dt=dt)\n",
    "    system = make_system(params)\n",
    "    results, details = run_ode_solver(system, slope_func, events=event_func)\n",
    "    results = vectorize_results(results)\n",
    "    plot_results(results, f\"{angle} degrees\")"
   ]
  },
  {
   "cell_type": "code",
   "execution_count": 14,
   "metadata": {
    "collapsed": false
   },
   "outputs": [
    {
     "data": {
      "image/png": "[encoded data removed]",
      "text/plain": "<Figure size 432x288 with 1 Axes>"
     },
     "metadata": {
      "needs_background": "light"
     },
     "output_type": "execute_result"
    }
   ],
   "source": [
    "run_with_angle(161)"
   ]
  },
  {
   "cell_type": "code",
   "execution_count": 15,
   "metadata": {
    "collapsed": false
   },
   "outputs": [
    {
     "data": {
      "image/png": "[encoded data removed]",
      "text/plain": "<Figure size 432x288 with 1 Axes>"
     },
     "metadata": {
      "needs_background": "light"
     },
     "output_type": "execute_result"
    }
   ],
   "source": [
    "run_with_angle(162)"
   ]
  },
  {
   "cell_type": "code",
   "execution_count": 16,
   "metadata": {
    "collapsed": false
   },
   "outputs": [
    {
     "data": {
      "image/png": "[encoded data removed]",
      "text/plain": "<Figure size 432x288 with 1 Axes>"
     },
     "metadata": {
      "needs_background": "light"
     },
     "output_type": "execute_result"
    }
   ],
   "source": [
    "run_with_angle(163)"
   ]
  },
  {
   "cell_type": "code",
   "execution_count": 17,
   "metadata": {
    "collapsed": false
   },
   "outputs": [
    {
     "data": {
      "image/png": "[encoded data removed]",
      "text/plain": "<Figure size 432x288 with 1 Axes>"
     },
     "metadata": {
      "needs_background": "light"
     },
     "output_type": "execute_result"
    }
   ],
   "source": [
    "run_with_angle(164)"
   ]
  },
  {
   "cell_type": "code",
   "execution_count": 18,
   "metadata": {
    "collapsed": false
   },
   "outputs": [
    {
     "data": {
      "image/png": "[encoded data removed]",
      "text/plain": "<Figure size 432x288 with 1 Axes>"
     },
     "metadata": {
      "needs_background": "light"
     },
     "output_type": "execute_result"
    }
   ],
   "source": [
    "run_with_angle(165)"
   ]
  },
  {
   "cell_type": "markdown",
   "metadata": {
    "collapsed": false
   },
   "source": [
    "## Interpretation \n",
    "Our simulation confirms the chaotic motion of a double pendulum. With even a 1-degree change in initial angle, the motion of the outer mass is completely different.\n",
    "\n",
    "By not including friction or air resistance in our model, we simulated an undampened system which means the pendulum will never come to a stop. The lack of dampening forces also means that our model is somewhat inaccurate. The longer we run the simulation, the more inaccurate it gets because the motion continues with the same energy rather than becoming increasingly dampened. Additionally, the small changes that friction would have made to the pendulum's motion earlier in the simulation may lead to unpredictably inaccurate results as time goes on due to the chaotic motion of the pendulum. We could add a friction force to model a more realistic dampened, however, our friction force would have to be completely accurate in order to avoid the compounding inaccuracy that comes from the chaos of the system.\n",
    "\n",
    "Our model is successful at showing the chaos of the system and what the motion of a double pendulum could look like, but it would be bad at predicting the motion of a real-life double pendulum. Any tiny differences between our model and the real system based on our assumptions or imprecision in the physical system would create large discrepancies between our predicted behavior and the real motion as the simulation got further in time.\n",
    "\n",
    "It was extremely difficult to iterate within our model. To model the system, even in its simplest form, required incredibly complex equations. The main iteration our project underwent occurred during the equation-writing portion of the project. Before attempting to understand the motion equations for the double pendulum, we looked at equations for a single pendulum. The motions equations for the single pendulum were grounded by the same physical laws as the double pendulum but were far less complicated. Our understanding of the single pendulum equations allowed us to better understand the double pendulum equations and validate them in many cases. In the future, we could iterate upon our model to eliminate some of our assumptions and make it more accurate."
   ]
  },
  {
   "cell_type": "markdown",
   "metadata": {
    "collapsed": false
   },
   "source": [
    "## External Validity Experiment\n",
    "Due to the chaos of the system and the assumptions discussed in our interpretation section, our model is unlikely to match the behavior of a double pendulum in real life. However, our simulation could be validated if we ran a real-world double pendulum under certain conditions, like a short time period or a small initial angle. Either of those two conditions would produce less chaotic motion that would be less impacted by the inaccuracy our assumptions create.\n",
    "\n",
    "For a simple validation experiment, we could build a double pendulum with light rods and dense masses and release it from rest at a 100-degree angle. We could film the motion and trace the movement of the two masses over time. To validate our model, we could compare this path to our simulated path. If they were similar for the first few seconds (before the inaccuracies from friction compound and become substantial) we would know that our model works."
   ]
  },
  {
   "cell_type": "markdown",
   "metadata": {
    "collapsed": false
   },
   "source": [
    "## References\n",
    "http://www.phys.lsu.edu/faculty/gonzalez/Teaching/Phys7221/DoublePendulum.pdf\n",
    "\n",
    "https://www.myphysicslab.com/pendulum/double-pendulum-en.html\n",
    "\n",
    "https://www.myphysicslab.com/pendulum/double-pendulum-en.html"
   ]
  }
 ],
 "metadata": {
  "kernelspec": {
   "display_name": "Python 3",
   "language": "python",
   "name": "python3"
  },
  "language_info": {
   "codemirror_mode": {
    "name": "ipython",
    "version": 3
   },
   "file_extension": ".py",
   "mimetype": "text/x-python",
   "name": "python",
   "nbconvert_exporter": "python",
   "pygments_lexer": "ipython3",
   "version": "3.7.3"
  }
 },
 "nbformat": 4,
 "nbformat_minor": 4
}